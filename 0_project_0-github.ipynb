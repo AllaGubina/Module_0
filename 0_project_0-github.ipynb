{
 "cells": [
  {
   "cell_type": "code",
   "execution_count": 9,
   "metadata": {},
   "outputs": [
    {
     "name": "stdout",
     "output_type": "stream",
     "text": [
      "Ваш алгоритм угадывает число в среднем за 5 попыток\n"
     ]
    },
    {
     "data": {
      "text/plain": [
       "5"
      ]
     },
     "execution_count": 9,
     "metadata": {},
     "output_type": "execute_result"
    }
   ],
   "source": [
    "import numpy as np\n",
    "\n",
    "def game_core_v2(number):\n",
    "    ''''The function accepts a given number and returns the number of attempts'''\n",
    "    \n",
    "    left = 1\n",
    "    right = 101\n",
    "    count = 1\n",
    "    predict = 50  \n",
    "    while number != predict:\n",
    "        count+=1 \n",
    "        if number > predict:\n",
    "            left = predict\n",
    "        elif number < predict: \n",
    "            right = predict\n",
    "        predict = (left+right)//2\n",
    "        \n",
    "    return(count) # выход из цикла, если угадали\n",
    "\n",
    "\n",
    "def score_game(game_core):\n",
    "    '''Run the game 1000 times to find out how fast the game guesses the number\"'''\n",
    "    \n",
    "    count_ls = []\n",
    "    np.random.seed(1)  # фиксируем RANDOM SEED, чтобы ваш эксперимент был воспроизводим!\n",
    "    random_array = np.random.randint(1,101,size=(1000))\n",
    "    for number in random_array:\n",
    "        count_ls.append(game_core(number))\n",
    "    \n",
    "    score = int(np.mean(count_ls))  \n",
    "    print(f\"Ваш алгоритм угадывает число в среднем за {score} попыток\")\n",
    "  \n",
    "    return(score)\n",
    "\n",
    "# Проверяем\n",
    "score_game(game_core_v2)"
   ]
  },
  {
   "cell_type": "code",
   "execution_count": null,
   "metadata": {},
   "outputs": [],
   "source": []
  },
  {
   "cell_type": "code",
   "execution_count": null,
   "metadata": {},
   "outputs": [],
   "source": []
  }
 ],
 "metadata": {
  "kernelspec": {
   "display_name": "Python 3",
   "language": "python",
   "name": "python3"
  },
  "language_info": {
   "codemirror_mode": {
    "name": "ipython",
    "version": 3
   },
   "file_extension": ".py",
   "mimetype": "text/x-python",
   "name": "python",
   "nbconvert_exporter": "python",
   "pygments_lexer": "ipython3",
   "version": "3.8.3"
  }
 },
 "nbformat": 4,
 "nbformat_minor": 4
}
